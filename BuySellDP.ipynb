{
 "cells": [
  {
   "cell_type": "markdown",
   "id": "07e81309",
   "metadata": {},
   "source": [
    "# Buy Sell Stock DP"
   ]
  },
  {
   "cell_type": "markdown",
   "id": "ea248241",
   "metadata": {},
   "source": [
    "1. https://leetcode.com/problems/best-time-to-buy-and-sell-stock/\n",
    "\n",
    "You are given an array prices where prices[i] is the price of a given stock on the ith day.\n",
    "\n",
    "You want to maximize your profit by choosing a single day to buy one stock and choosing a different day in the future to sell that stock.\n",
    "\n",
    "Return the maximum profit you can achieve from this transaction. If you cannot achieve any profit, return 0.\n",
    "\n",
    " \n",
    "\n",
    "Example 1:\n",
    "\n",
    "Input: prices = [7,1,5,3,6,4]\n",
    "Output: 5\n",
    "Explanation: Buy on day 2 (price = 1) and sell on day 5 (price = 6), profit = 6-1 = 5.\n",
    "Note that buying on day 2 and selling on day 1 is not allowed because you must buy before you sell.\n",
    "Example 2:\n",
    "\n",
    "Input: prices = [7,6,4,3,1]\n",
    "Output: 0\n",
    "Explanation: In this case, no transactions are done and the max profit = 0.\n",
    " \n",
    "\n",
    "Constraints:\n",
    "\n",
    "1 <= prices.length <= 105\n",
    "0 <= prices[i] <= 104\n",
    "\n",
    "### My notes\n",
    "This is a special case of the buy & sell DP where K transactions are allowed with K=1.\n",
    "\n",
    "The intiuition is that we buy on day \"i\" at a price \"p\" which will decrease the amount of cash in hand by price \"p\" (price + sell). The idea is to maximize the amount of cash in hand after one (K = 1) buy-sell transaction.\n",
    "\n",
    "The code below follows that we either buy at day \"i\" at price \"p\" or rest (don't buy anything) & we either don't sell anything on day \"i\" avoiding a cash outflow of price \"-p\"."
   ]
  },
  {
   "cell_type": "code",
   "execution_count": 3,
   "id": "bc835939",
   "metadata": {},
   "outputs": [
    {
     "name": "stdout",
     "output_type": "stream",
     "text": [
      "5\n",
      "0\n"
     ]
    }
   ],
   "source": [
    "from typing import List\n",
    "\n",
    "\n",
    "class Solution:\n",
    "    def maxProfit(self, prices: List[int]) -> int:\n",
    "        buy, sell = 0, float(\"-inf\")\n",
    "        \n",
    "        for price in prices:\n",
    "            buy = max(buy, price + sell)\n",
    "            sell = max(sell, -price)\n",
    "        \n",
    "        return buy\n",
    "    \n",
    "\n",
    "def main():\n",
    "    s = Solution()\n",
    "    \n",
    "    print(s.maxProfit( [7,1,5,3,6,4]))\n",
    "    print(s.maxProfit( [7,6,4,3,1]))\n",
    "    \n",
    "\n",
    "if __name__ == \"__main__\":\n",
    "    main()\n"
   ]
  },
  {
   "cell_type": "code",
   "execution_count": null,
   "id": "d56513e8",
   "metadata": {},
   "outputs": [],
   "source": []
  }
 ],
 "metadata": {
  "kernelspec": {
   "display_name": "Python 3 (ipykernel)",
   "language": "python",
   "name": "python3"
  },
  "language_info": {
   "codemirror_mode": {
    "name": "ipython",
    "version": 3
   },
   "file_extension": ".py",
   "mimetype": "text/x-python",
   "name": "python",
   "nbconvert_exporter": "python",
   "pygments_lexer": "ipython3",
   "version": "3.10.6"
  }
 },
 "nbformat": 4,
 "nbformat_minor": 5
}

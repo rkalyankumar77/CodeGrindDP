{
 "cells": [
  {
   "cell_type": "markdown",
   "id": "28b7d65b",
   "metadata": {},
   "source": [
    "1. https://leetcode.com/problems/paint-house/\n",
    "\n",
    "There is a row of n houses, where each house can be painted one of three colors: red, blue, or green. The cost of painting each house with a certain color is different. You have to paint all the houses such that no two adjacent houses have the same color.\n",
    "\n",
    "The cost of painting each house with a certain color is represented by an n x 3 cost matrix costs.\n",
    "\n",
    "For example, costs[0][0] is the cost of painting house 0 with the color red; costs[1][2] is the cost of painting house 1 with color green, and so on...\n",
    "Return the minimum cost to paint all houses.\n",
    "\n",
    " \n",
    "\n",
    "Example 1:\n",
    "\n",
    "Input: costs = [[17,2,17],[16,16,5],[14,3,19]]\n",
    "Output: 10\n",
    "Explanation: Paint house 0 into blue, paint house 1 into green, paint house 2 into blue.\n",
    "Minimum cost: 2 + 5 + 3 = 10.\n",
    "Example 2:\n",
    "\n",
    "Input: costs = [[7,6,2]]\n",
    "Output: 2\n",
    " \n",
    "\n",
    "Constraints:\n",
    "\n",
    "costs.length == n\n",
    "costs[i].length == 3\n",
    "1 <= n <= 100\n",
    "1 <= costs[i][j] <= 20\n",
    "\n",
    "## My Notes\n",
    "The bruteforce approach is to recursively try all the permutations and eliminate such permutation that does have two adjacent houses are painted in same color. A better approach is to try permutations that have adjacent houses painted in different color & pick the minimum cost from it. The recursive/memoized solution is easy to understand than the bottom-up approach. The bottom-up approach uses the same costs array to store the minimum cost instead of auxilary space.\n",
    "\n",
    "Time complexity: O(n)\n",
    "\n",
    "Space complexity: O(1) - Bottom-up solution, O(n) memoized recursive solution"
   ]
  },
  {
   "cell_type": "code",
   "execution_count": 1,
   "id": "4feb756b",
   "metadata": {},
   "outputs": [
    {
     "name": "stdout",
     "output_type": "stream",
     "text": [
      "10\n",
      "2\n",
      "26\n"
     ]
    }
   ],
   "source": [
    "from typing import List\n",
    "from functools import lru_cache\n",
    "\n",
    "\n",
    "class Solution:\n",
    "    def minCost(self, costs: List[List[int]]) -> int:\n",
    "        if len(costs) == 0: return 0\n",
    "        for n in range(len(costs) - 2, -1, -1):\n",
    "            costs[n][0] += min(costs[n + 1][1], costs[n + 1][2])\n",
    "            costs[n][1] += min(costs[n + 1][0], costs[n + 1][2])\n",
    "            costs[n][2] += min(costs[n + 1][0], costs[n + 1][1])\n",
    "        return min(costs[0])\n",
    "\n",
    "    def minCostMemoized(self, costs: List[List[int]]) -> int:\n",
    "        @lru_cache(maxsize = None)\n",
    "        def dp(n, color):\n",
    "            total_cost = costs[n][color]\n",
    "\n",
    "            if n == len(costs) - 1:\n",
    "                return total_cost\n",
    "            elif color == 0:\n",
    "                total_cost += min(dp(n + 1, 1), dp(n + 1, 2))\n",
    "            elif color == 1:\n",
    "                total_cost += min(dp(n + 1, 0), dp(n + 1, 2))\n",
    "            elif color == 2:\n",
    "                total_cost += min(dp(n + 1, 0), dp(n + 1, 1))\n",
    "            return total_cost\n",
    "        return min(dp(0, 0), dp(0, 1), dp(0, 2))\n",
    "\n",
    "\n",
    "def main():\n",
    "    s = Solution()\n",
    "\n",
    "    print(s.minCost([[17,2,17],[16,16,5],[14,3,19]]))\n",
    "    print(s.minCost([[7,6,2]]))\n",
    "    print(s.minCost([[3,5,3],[6,17,6],[7,13,18],[9,10,18]]))\n",
    "\n",
    "\n",
    "if __name__ == \"__main__\":\n",
    "    main()\n"
   ]
  },
  {
   "cell_type": "code",
   "execution_count": null,
   "id": "4ab010c9",
   "metadata": {},
   "outputs": [],
   "source": []
  }
 ],
 "metadata": {
  "kernelspec": {
   "display_name": "Python 3 (ipykernel)",
   "language": "python",
   "name": "python3"
  },
  "language_info": {
   "codemirror_mode": {
    "name": "ipython",
    "version": 3
   },
   "file_extension": ".py",
   "mimetype": "text/x-python",
   "name": "python",
   "nbconvert_exporter": "python",
   "pygments_lexer": "ipython3",
   "version": "3.10.6"
  }
 },
 "nbformat": 4,
 "nbformat_minor": 5
}
